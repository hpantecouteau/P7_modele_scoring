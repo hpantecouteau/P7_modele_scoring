{
 "cells": [
  {
   "cell_type": "code",
   "execution_count": 1,
   "metadata": {},
   "outputs": [],
   "source": [
    "import pandas as pd\n",
    "import json\n",
    "import seaborn as sns\n",
    "import matplotlib.pyplot as plt\n",
    "import numpy as np\n",
    "from sklearn.metrics import precision_recall_fscore_support"
   ]
  },
  {
   "cell_type": "code",
   "execution_count": 21,
   "metadata": {},
   "outputs": [
    {
     "data": {
      "text/html": [
       "<div>\n",
       "<style scoped>\n",
       "    .dataframe tbody tr th:only-of-type {\n",
       "        vertical-align: middle;\n",
       "    }\n",
       "\n",
       "    .dataframe tbody tr th {\n",
       "        vertical-align: top;\n",
       "    }\n",
       "\n",
       "    .dataframe thead th {\n",
       "        text-align: right;\n",
       "    }\n",
       "</style>\n",
       "<table border=\"1\" class=\"dataframe\">\n",
       "  <thead>\n",
       "    <tr style=\"text-align: right;\">\n",
       "      <th></th>\n",
       "      <th>approved</th>\n",
       "      <th>rejected</th>\n",
       "      <th>target</th>\n",
       "    </tr>\n",
       "  </thead>\n",
       "  <tbody>\n",
       "    <tr>\n",
       "      <th>0</th>\n",
       "      <td>0.451880</td>\n",
       "      <td>0.548120</td>\n",
       "      <td>1.0</td>\n",
       "    </tr>\n",
       "    <tr>\n",
       "      <th>1</th>\n",
       "      <td>0.905454</td>\n",
       "      <td>0.094546</td>\n",
       "      <td>0.0</td>\n",
       "    </tr>\n",
       "    <tr>\n",
       "      <th>2</th>\n",
       "      <td>0.715726</td>\n",
       "      <td>0.284274</td>\n",
       "      <td>0.0</td>\n",
       "    </tr>\n",
       "    <tr>\n",
       "      <th>3</th>\n",
       "      <td>0.597655</td>\n",
       "      <td>0.402345</td>\n",
       "      <td>0.0</td>\n",
       "    </tr>\n",
       "    <tr>\n",
       "      <th>4</th>\n",
       "      <td>0.738198</td>\n",
       "      <td>0.261802</td>\n",
       "      <td>0.0</td>\n",
       "    </tr>\n",
       "    <tr>\n",
       "      <th>...</th>\n",
       "      <td>...</td>\n",
       "      <td>...</td>\n",
       "      <td>...</td>\n",
       "    </tr>\n",
       "    <tr>\n",
       "      <th>291596</th>\n",
       "      <td>0.699497</td>\n",
       "      <td>0.300503</td>\n",
       "      <td>0.0</td>\n",
       "    </tr>\n",
       "    <tr>\n",
       "      <th>291597</th>\n",
       "      <td>0.705596</td>\n",
       "      <td>0.294404</td>\n",
       "      <td>0.0</td>\n",
       "    </tr>\n",
       "    <tr>\n",
       "      <th>291598</th>\n",
       "      <td>0.656117</td>\n",
       "      <td>0.343883</td>\n",
       "      <td>0.0</td>\n",
       "    </tr>\n",
       "    <tr>\n",
       "      <th>291599</th>\n",
       "      <td>0.607919</td>\n",
       "      <td>0.392081</td>\n",
       "      <td>1.0</td>\n",
       "    </tr>\n",
       "    <tr>\n",
       "      <th>291600</th>\n",
       "      <td>0.858334</td>\n",
       "      <td>0.141666</td>\n",
       "      <td>0.0</td>\n",
       "    </tr>\n",
       "  </tbody>\n",
       "</table>\n",
       "<p>291601 rows × 3 columns</p>\n",
       "</div>"
      ],
      "text/plain": [
       "        approved  rejected  target\n",
       "0       0.451880  0.548120     1.0\n",
       "1       0.905454  0.094546     0.0\n",
       "2       0.715726  0.284274     0.0\n",
       "3       0.597655  0.402345     0.0\n",
       "4       0.738198  0.261802     0.0\n",
       "...          ...       ...     ...\n",
       "291596  0.699497  0.300503     0.0\n",
       "291597  0.705596  0.294404     0.0\n",
       "291598  0.656117  0.343883     0.0\n",
       "291599  0.607919  0.392081     1.0\n",
       "291600  0.858334  0.141666     0.0\n",
       "\n",
       "[291601 rows x 3 columns]"
      ]
     },
     "execution_count": 21,
     "metadata": {},
     "output_type": "execute_result"
    }
   ],
   "source": [
    "df_proba = pd.read_csv(\"df_probas.csv\")\n",
    "df_proba"
   ]
  },
  {
   "cell_type": "code",
   "execution_count": 51,
   "metadata": {},
   "outputs": [],
   "source": [
    "def cout(data: pd.DataFrame, seuil: float):\n",
    "    df = data.copy()\n",
    "    df[\"prediction\"] = np.where(df.approved > seuil, 0.0, 1.0)\n",
    "    tp = df.loc[(df.prediction == 0) & (df.target == 0),:].shape[0]\n",
    "    fp = df.loc[(df.prediction == 0) & (df.target == 1),:].shape[0]\n",
    "    tn = df.loc[(df.prediction == 1) & (df.target == 1),:].shape[0]\n",
    "    fn = df.loc[(df.prediction == 1) & (df.target == 0),:].shape[0]\n",
    "    return 1*fp - 0.1*tp"
   ]
  },
  {
   "cell_type": "code",
   "execution_count": 52,
   "metadata": {},
   "outputs": [],
   "source": [
    "couts = [cout(df_proba, seuil) for seuil in np.arange(0,1.01,0.01)]"
   ]
  },
  {
   "cell_type": "code",
   "execution_count": 53,
   "metadata": {},
   "outputs": [
    {
     "data": {
      "image/png": "[encoded data removed]",
      "text/plain": [
       "<Figure size 640x480 with 1 Axes>"
      ]
     },
     "metadata": {},
     "output_type": "display_data"
    }
   ],
   "source": [
    "plt.scatter(np.arange(0,1.01,0.01), couts)\n",
    "plt.xticks(np.arange(0,1.1,0.1))\n",
    "plt.xlabel(\"Seuil sur probabilité d'accorder le prêt\")\n",
    "plt.ylabel(\"Fonction coût\")\n",
    "plt.show()"
   ]
  }
 ],
 "metadata": {
  "kernelspec": {
   "display_name": "Python 3.8.10 ('venv': venv)",
   "language": "python",
   "name": "python3"
  },
  "language_info": {
   "codemirror_mode": {
    "name": "ipython",
    "version": 3
   },
   "file_extension": ".py",
   "mimetype": "text/x-python",
   "name": "python",
   "nbconvert_exporter": "python",
   "pygments_lexer": "ipython3",
   "version": "3.8.10"
  },
  "orig_nbformat": 4,
  "vscode": {
   "interpreter": {
    "hash": "fca65f878d9ad7debf23898a159a86f42d8d115aacac760d99939841d7371812"
   }
  }
 },
 "nbformat": 4,
 "nbformat_minor": 2
}
